{
 "cells": [
  {
   "cell_type": "markdown",
   "metadata": {},
   "source": [
    "# Siemese Network For Speaker Verification"
   ]
  },
  {
   "cell_type": "markdown",
   "metadata": {},
   "source": [
    "### Importing datasets"
   ]
  },
  {
   "cell_type": "code",
   "execution_count": 395,
   "metadata": {},
   "outputs": [
    {
     "data": {
      "text/plain": [
       "(500, 16180)"
      ]
     },
     "execution_count": 395,
     "metadata": {},
     "output_type": "execute_result"
    }
   ],
   "source": [
    "import pickle\n",
    "with open('hw4_trs.pkl','rb') as train_file:\n",
    "    train_df = pickle.load(train_file)\n",
    "train_df.shape"
   ]
  },
  {
   "cell_type": "code",
   "execution_count": 396,
   "metadata": {},
   "outputs": [
    {
     "data": {
      "text/plain": [
       "(200, 22631)"
      ]
     },
     "execution_count": 396,
     "metadata": {},
     "output_type": "execute_result"
    }
   ],
   "source": [
    "with open('hw4_tes.pkl','rb') as test_file:\n",
    "    test_df = pickle.load(test_file)\n",
    "test_df.shape"
   ]
  },
  {
   "cell_type": "markdown",
   "metadata": {},
   "source": [
    "# Generating Positive pairs"
   ]
  },
  {
   "cell_type": "code",
   "execution_count": 684,
   "metadata": {},
   "outputs": [],
   "source": [
    "import itertools\n",
    "import random\n",
    "import librosa"
   ]
  },
  {
   "cell_type": "code",
   "execution_count": 685,
   "metadata": {},
   "outputs": [],
   "source": [
    "def pad(x):\n",
    "        target = np.zeros((45,513), dtype=int)\n",
    "        source = x\n",
    "        target[:x.shape[0]] = source\n",
    "        return target"
   ]
  },
  {
   "cell_type": "code",
   "execution_count": 686,
   "metadata": {},
   "outputs": [],
   "source": [
    "def positive_pairs(pos_speaker, L):\n",
    "    comb = list(itertools.combinations(range(10), 2))\n",
    "    positive_pair = []\n",
    "    random_comb = random.sample(comb, L)\n",
    "\n",
    "    for x,y in random_comb:\n",
    "        stft1 = np.abs(librosa.stft(pos_speaker[x], n_fft=1024, hop_length=512)).T\n",
    "        stft2 = np.abs(librosa.stft(pos_speaker[y], n_fft=1024, hop_length=512)).T\n",
    "        positive_pair.append([pad(stft1), pad(stft2)])\n",
    "        \n",
    "    return positive_pair"
   ]
  },
  {
   "cell_type": "markdown",
   "metadata": {},
   "source": [
    "# Generating Negative pairs"
   ]
  },
  {
   "cell_type": "code",
   "execution_count": 687,
   "metadata": {},
   "outputs": [],
   "source": [
    "def negative_pairs(pos_i, df, L):\n",
    "    df = list(df)\n",
    "    \n",
    "    pos = df[pos_i:pos_i+10]\n",
    "    neg = df[:pos_i] + df[pos_i+10:]\n",
    "    neg_speaker = random.sample(neg, L)\n",
    "    negative_pair = []\n",
    "\n",
    "    for i in range(L):\n",
    "        pos_speaker = random.choice(pos)\n",
    "        stft1 = np.abs(librosa.stft(pos_speaker, n_fft=1024, hop_length=512)).T\n",
    "        stft2 = np.abs(librosa.stft(neg_speaker[i], n_fft=1024, hop_length=512)).T\n",
    "        negative_pair.append([pad(stft1), pad(stft2)])\n",
    "        \n",
    "    return negative_pair"
   ]
  },
  {
   "cell_type": "code",
   "execution_count": 688,
   "metadata": {},
   "outputs": [
    {
     "data": {
      "text/plain": [
       "numpy.ndarray"
      ]
     },
     "execution_count": 688,
     "metadata": {},
     "output_type": "execute_result"
    }
   ],
   "source": [
    "type(train_df)"
   ]
  },
  {
   "cell_type": "code",
   "execution_count": 689,
   "metadata": {},
   "outputs": [
    {
     "data": {
      "text/plain": [
       "(10, 16180)"
      ]
     },
     "execution_count": 689,
     "metadata": {},
     "output_type": "execute_result"
    }
   ],
   "source": [
    "train_df[:10].shape"
   ]
  },
  {
   "cell_type": "code",
   "execution_count": 690,
   "metadata": {},
   "outputs": [
    {
     "data": {
      "text/plain": [
       "array([1, 1, 1, 1, 1, 1, 1, 1, 1, 1, 1, 1, 1, 1, 1, 1, 1, 1, 1, 1, 1, 1,\n",
       "       1, 1, 1, 1, 1, 1, 1, 1, 1, 1, 1, 1, 1, 1, 1, 1, 1, 1, 1, 1, 1, 1,\n",
       "       1, 0, 0, 0, 0, 0, 0, 0, 0, 0, 0, 0, 0, 0, 0, 0, 0, 0, 0, 0, 0, 0,\n",
       "       0, 0, 0, 0, 0, 0, 0, 0, 0, 0, 0, 0, 0, 0, 0, 0, 0, 0, 0, 0, 0, 0,\n",
       "       0, 0])"
      ]
     },
     "execution_count": 690,
     "metadata": {},
     "output_type": "execute_result"
    }
   ],
   "source": [
    "np.append(np.ones(45, dtype = int), np.zeros(45, dtype = int))"
   ]
  },
  {
   "cell_type": "code",
   "execution_count": 702,
   "metadata": {},
   "outputs": [],
   "source": [
    "x_train = []\n",
    "y_train = []\n",
    "\n",
    "for i in range(50):\n",
    "    pos = positive_pairs(train_df[i*10:i*10+10], 45)\n",
    "    neg = negative_pairs(i*10, train_df, 45)\n",
    "    x_train = x_train + pos + neg\n",
    "    target = np.append(np.zeros(45, dtype = int), np.ones(45, dtype = int))\n",
    "    y_train.append(target)\n",
    "    \n",
    "    "
   ]
  },
  {
   "cell_type": "code",
   "execution_count": 703,
   "metadata": {},
   "outputs": [
    {
     "data": {
      "text/plain": [
       "(4500, 2, 45, 513)"
      ]
     },
     "execution_count": 703,
     "metadata": {},
     "output_type": "execute_result"
    }
   ],
   "source": [
    "x_train = np.array(x_train)\n",
    "x_train.shape"
   ]
  },
  {
   "cell_type": "code",
   "execution_count": 704,
   "metadata": {},
   "outputs": [
    {
     "data": {
      "text/plain": [
       "(4500,)"
      ]
     },
     "execution_count": 704,
     "metadata": {},
     "output_type": "execute_result"
    }
   ],
   "source": [
    "y_train = np.hstack(y_train)\n",
    "y_train.shape"
   ]
  },
  {
   "cell_type": "code",
   "execution_count": 705,
   "metadata": {},
   "outputs": [
    {
     "name": "stdout",
     "output_type": "stream",
     "text": [
      "(1800, 2, 45, 513)\n",
      "(1800,)\n"
     ]
    }
   ],
   "source": [
    "x_test = []\n",
    "y_test = []\n",
    "\n",
    "for i in range(20):\n",
    "    pos = positive_pairs(test_df[i*10:i*10+10], 45)\n",
    "    neg = negative_pairs(i*10, test_df, 45)\n",
    "    x_test = x_test + pos + neg\n",
    "    target = np.append(np.zeros(45, dtype = int), np.ones(45, dtype = int))\n",
    "    y_test.append(target)\n",
    "    \n",
    "    \n",
    "x_test = np.array(x_test)\n",
    "print(x_test.shape)\n",
    "\n",
    "y_test = np.hstack(y_test)\n",
    "print(y_test.shape)"
   ]
  },
  {
   "cell_type": "markdown",
   "metadata": {},
   "source": [
    "### Creating data loaders"
   ]
  },
  {
   "cell_type": "code",
   "execution_count": 706,
   "metadata": {},
   "outputs": [
    {
     "name": "stdout",
     "output_type": "stream",
     "text": [
      "torch.Size([32, 2, 45, 513])\n",
      "torch.Size([32])\n"
     ]
    }
   ],
   "source": [
    "from torch import Tensor\n",
    "# Creating a train loader from the magnitude signals\n",
    "dataset = torch.utils.data.TensorDataset(Tensor(x_train), Tensor(y_train))\n",
    "trainloader = torch.utils.data.DataLoader(dataset, batch_size=32, shuffle=True)\n",
    "dataiter = iter(trainloader)\n",
    "inputs, targets = dataiter.next()\n",
    "\n",
    "print(inputs.shape)\n",
    "print(targets.shape)"
   ]
  },
  {
   "cell_type": "code",
   "execution_count": 707,
   "metadata": {},
   "outputs": [
    {
     "name": "stdout",
     "output_type": "stream",
     "text": [
      "torch.Size([32, 2, 45, 513])\n",
      "torch.Size([32])\n"
     ]
    }
   ],
   "source": [
    "# Creating a train loader from the magnitude signals\n",
    "dataset = torch.utils.data.TensorDataset(Tensor(x_test), Tensor(y_test))\n",
    "testloader = torch.utils.data.DataLoader(dataset, batch_size=32, shuffle=True)\n",
    "dataiter = iter(testloader)\n",
    "inputs, targets = dataiter.next()\n",
    "\n",
    "print(inputs.shape)\n",
    "print(targets.shape)"
   ]
  },
  {
   "cell_type": "markdown",
   "metadata": {},
   "source": [
    "## Siemese network for speaker verification"
   ]
  },
  {
   "cell_type": "code",
   "execution_count": 749,
   "metadata": {},
   "outputs": [],
   "source": [
    "class SiameseNetwork(nn.Module):\n",
    "    def __init__(self,input_dim,hidden_dim, num_layers, dropout_prob):\n",
    "        super(SiameseNetwork, self).__init__()\n",
    "        self.hidden_dim = hidden_dim\n",
    "        self.input_dim = input_dim\n",
    "        self.num_layers = num_layers\n",
    "        self.dropout_prob = dropout_prob\n",
    "\n",
    "        self.gru = nn.GRU(input_dim, hidden_dim, num_layers, batch_first=True, dropout=self.dropout_prob)\n",
    "        self.fc2 = nn.Linear(4500, 1)\n",
    "        self.sigmoid = nn.Sigmoid()\n",
    "        self.flat = nn.Flatten()\n",
    "        self.cos = nn.CosineSimilarity(dim=1, eps=1e-6)\n",
    "        \n",
    "\n",
    "\n",
    "    def forward(self, input1, input2):#did not know how to let two resnet share the same param.\n",
    "        h0 = torch.zeros(self.num_layers, input1.size(0), self.hidden_dim).requires_grad_()\n",
    "        out1, _ = self.gru(input1, h0)\n",
    "        out1 = F.tanh(out1)\n",
    "\n",
    "        h1 = torch.zeros(self.num_layers, input2.size(0), self.hidden_dim).requires_grad_()\n",
    "        out2, _ = self.gru(input2, h1)\n",
    "        out2 = F.tanh(out2)\n",
    "\n",
    "        output = torch.mul(out1, out2)\n",
    "        output = self.flat(output)\n",
    "        \n",
    "        output = self.fc2(output)\n",
    "        output = F.sigmoid(output)\n",
    "        return output"
   ]
  },
  {
   "cell_type": "markdown",
   "metadata": {},
   "source": [
    "## Training the network"
   ]
  },
  {
   "cell_type": "markdown",
   "metadata": {},
   "source": [
    "### Trained the model for 75 epochs using GRU and tanh as activation function"
   ]
  },
  {
   "cell_type": "code",
   "execution_count": 750,
   "metadata": {},
   "outputs": [
    {
     "name": "stdout",
     "output_type": "stream",
     "text": [
      "Epoch: 0, Train loss: 0.5869, Train Accuracy: 0.673\n",
      "Epoch: 1, Train loss: 0.3562, Train Accuracy: 0.8539\n",
      "Epoch: 2, Train loss: 0.2642, Train Accuracy: 0.8959\n",
      "Epoch: 3, Train loss: 0.2036, Train Accuracy: 0.9224\n",
      "Epoch: 4, Train loss: 0.1427, Train Accuracy: 0.948\n",
      "Epoch: 5, Train loss: 0.1124, Train Accuracy: 0.9601\n",
      "Epoch: 6, Train loss: 0.0886, Train Accuracy: 0.9701\n",
      "Epoch: 7, Train loss: 0.0618, Train Accuracy: 0.9789\n",
      "Epoch: 8, Train loss: 0.0575, Train Accuracy: 0.9816\n",
      "Epoch: 9, Train loss: 0.0341, Train Accuracy: 0.99\n",
      "Epoch: 10, Train loss: 0.0208, Train Accuracy: 0.9945\n",
      "Epoch: 11, Train loss: 0.0116, Train Accuracy: 0.9978\n",
      "Epoch: 12, Train loss: 0.0132, Train Accuracy: 0.9971\n",
      "Epoch: 13, Train loss: 0.0241, Train Accuracy: 0.991\n",
      "Epoch: 14, Train loss: 0.0341, Train Accuracy: 0.9872\n",
      "Epoch: 15, Train loss: 0.0212, Train Accuracy: 0.9938\n",
      "Epoch: 16, Train loss: 0.0101, Train Accuracy: 0.9973\n",
      "Epoch: 17, Train loss: 0.007, Train Accuracy: 0.9978\n",
      "Epoch: 18, Train loss: 0.0059, Train Accuracy: 0.9987\n",
      "Epoch: 19, Train loss: 0.0063, Train Accuracy: 0.9989\n",
      "Epoch: 20, Train loss: 0.0018, Train Accuracy: 0.9998\n",
      "Epoch: 21, Train loss: 0.0024, Train Accuracy: 0.9993\n",
      "Epoch: 22, Train loss: 0.0036, Train Accuracy: 0.9993\n",
      "Epoch: 23, Train loss: 0.0019, Train Accuracy: 0.9996\n",
      "Epoch: 24, Train loss: 0.0024, Train Accuracy: 0.9996\n",
      "Epoch: 25, Train loss: 0.0024, Train Accuracy: 0.9993\n",
      "Epoch: 26, Train loss: 0.0044, Train Accuracy: 0.9991\n",
      "Epoch: 27, Train loss: 0.004, Train Accuracy: 0.9991\n",
      "Epoch: 28, Train loss: 0.0026, Train Accuracy: 0.9993\n",
      "Epoch: 29, Train loss: 0.0022, Train Accuracy: 0.9993\n",
      "Epoch: 30, Train loss: 0.0032, Train Accuracy: 0.9991\n",
      "Epoch: 31, Train loss: 0.0024, Train Accuracy: 0.9993\n",
      "Epoch: 32, Train loss: 0.0016, Train Accuracy: 0.9993\n",
      "Epoch: 33, Train loss: 0.0016, Train Accuracy: 0.9996\n",
      "Epoch: 34, Train loss: 0.0045, Train Accuracy: 0.9991\n",
      "Epoch: 35, Train loss: 0.1703, Train Accuracy: 0.9576\n",
      "Epoch: 36, Train loss: 0.1063, Train Accuracy: 0.963\n",
      "Epoch: 37, Train loss: 0.0198, Train Accuracy: 0.9942\n",
      "Epoch: 38, Train loss: 0.006, Train Accuracy: 0.9989\n",
      "Epoch: 39, Train loss: 0.0032, Train Accuracy: 0.9993\n",
      "Epoch: 40, Train loss: 0.0029, Train Accuracy: 0.9991\n",
      "Epoch: 41, Train loss: 0.0019, Train Accuracy: 0.9996\n",
      "Epoch: 42, Train loss: 0.0019, Train Accuracy: 0.9991\n",
      "Epoch: 43, Train loss: 0.0017, Train Accuracy: 0.9996\n",
      "Epoch: 44, Train loss: 0.0015, Train Accuracy: 0.9996\n",
      "Epoch: 45, Train loss: 0.003, Train Accuracy: 0.9991\n",
      "Epoch: 46, Train loss: 0.0017, Train Accuracy: 0.9996\n",
      "Epoch: 47, Train loss: 0.002, Train Accuracy: 0.9993\n",
      "Epoch: 48, Train loss: 0.0019, Train Accuracy: 0.9991\n",
      "Epoch: 49, Train loss: 0.0023, Train Accuracy: 0.9993\n",
      "Epoch: 50, Train loss: 0.0028, Train Accuracy: 0.9993\n",
      "Epoch: 51, Train loss: 0.0018, Train Accuracy: 0.9996\n",
      "Epoch: 52, Train loss: 0.0013, Train Accuracy: 0.9996\n",
      "Epoch: 53, Train loss: 0.0032, Train Accuracy: 0.9991\n",
      "Epoch: 54, Train loss: 0.0019, Train Accuracy: 0.9993\n",
      "Epoch: 55, Train loss: 0.0023, Train Accuracy: 0.9993\n",
      "Epoch: 56, Train loss: 0.0039, Train Accuracy: 0.9991\n",
      "Epoch: 57, Train loss: 0.0775, Train Accuracy: 0.9777\n",
      "Epoch: 58, Train loss: 0.0743, Train Accuracy: 0.9765\n",
      "Epoch: 59, Train loss: 0.0152, Train Accuracy: 0.9945\n",
      "Epoch: 60, Train loss: 0.0061, Train Accuracy: 0.9984\n",
      "Epoch: 61, Train loss: 0.0024, Train Accuracy: 0.9993\n",
      "Epoch: 62, Train loss: 0.0019, Train Accuracy: 0.9996\n",
      "Epoch: 63, Train loss: 0.0026, Train Accuracy: 0.9993\n",
      "Epoch: 64, Train loss: 0.0023, Train Accuracy: 0.9993\n",
      "Epoch: 65, Train loss: 0.0017, Train Accuracy: 0.9996\n",
      "Epoch: 66, Train loss: 0.0017, Train Accuracy: 0.9996\n",
      "Epoch: 67, Train loss: 0.0013, Train Accuracy: 0.9996\n",
      "Epoch: 68, Train loss: 0.002, Train Accuracy: 0.9993\n",
      "Epoch: 69, Train loss: 0.0026, Train Accuracy: 0.9991\n",
      "Epoch: 70, Train loss: 0.0014, Train Accuracy: 0.9996\n",
      "Epoch: 71, Train loss: 0.0017, Train Accuracy: 0.9996\n",
      "Epoch: 72, Train loss: 0.0018, Train Accuracy: 0.9996\n",
      "Epoch: 73, Train loss: 0.0024, Train Accuracy: 0.9993\n",
      "Epoch: 74, Train loss: 0.0031, Train Accuracy: 0.9991\n"
     ]
    }
   ],
   "source": [
    "from torch.autograd import Variable\n",
    "model_net = SiameseNetwork(513,100,2,0.2)\n",
    "criterion = nn.BCELoss()\n",
    "optimizer = optim.Adam(model_net.parameters(), lr=0.0009)\n",
    "model_net.train()\n",
    "\n",
    "\n",
    "for epoch in range(75):\n",
    "    train_loss = []\n",
    "    train_accuracy = []\n",
    "    for img, labels in trainloader:\n",
    "        img0, img1 = img[:,0], img[:,1] \n",
    "        outputs = model_net(img0,img1)\n",
    "        predicted = torch.round(outputs.data)\n",
    "        loss = criterion(outputs.squeeze(), labels)\n",
    "        optimizer.zero_grad()\n",
    "        loss.backward()\n",
    "        optimizer.step()\n",
    "        train_loss.append(loss.item())\n",
    "        train_accuracy.append((predicted.squeeze() == labels).sum().item() / predicted.squeeze().size(0))\n",
    "    print('Epoch: {}, Train loss: {}, Train Accuracy: {}'.format(epoch, np.round(np.mean(train_loss),4),np.round(np.mean(train_accuracy),4) ))\n",
    "    "
   ]
  },
  {
   "cell_type": "markdown",
   "metadata": {},
   "source": [
    "## Testing the network"
   ]
  },
  {
   "cell_type": "code",
   "execution_count": 751,
   "metadata": {},
   "outputs": [
    {
     "name": "stdout",
     "output_type": "stream",
     "text": [
      "Test loss: 2.77, Test accuracy: 0.7253\n"
     ]
    }
   ],
   "source": [
    "prediction_final = []\n",
    "test_loss = []\n",
    "test_accuracy = []\n",
    "model_net.eval()\n",
    "with torch.no_grad():\n",
    "    for img, label in testloader:\n",
    "\n",
    "        img0, img1 = img[:,0], img[:,1]\n",
    "\n",
    "        outputs = model_net(img0, img1)\n",
    "        predicted = torch.round(outputs)\n",
    "        #print(predicted.squeeze())\n",
    "        loss = criterion(outputs.squeeze(),label)\n",
    "        test_loss.append(loss.item())\n",
    "\n",
    "        #Calculating accuracy\n",
    "        test_accuracy.append((predicted.squeeze() == label).sum().item() / predicted.squeeze().size(0))\n",
    "        prediction_final.append(predicted)\n",
    "\n",
    "    test_accuracy_final.append(np.round(np.mean(test_accuracy),4))\n",
    "    print('Test loss: {}, Test accuracy: {}'.format(np.round(np.mean(test_loss),2), np.round(np.mean(test_accuracy),4)))"
   ]
  },
  {
   "cell_type": "markdown",
   "metadata": {},
   "source": [
    "## Got a test accuracy og 72%"
   ]
  }
 ],
 "metadata": {
  "accelerator": "GPU",
  "colab": {
   "collapsed_sections": [],
   "provenance": []
  },
  "kernelspec": {
   "display_name": "Python 3 (ipykernel)",
   "language": "python",
   "name": "python3"
  },
  "language_info": {
   "codemirror_mode": {
    "name": "ipython",
    "version": 3
   },
   "file_extension": ".py",
   "mimetype": "text/x-python",
   "name": "python",
   "nbconvert_exporter": "python",
   "pygments_lexer": "ipython3",
   "version": "3.9.13"
  }
 },
 "nbformat": 4,
 "nbformat_minor": 1
}
